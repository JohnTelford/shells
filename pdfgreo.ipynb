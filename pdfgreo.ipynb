{
 "cells": [
  {
   "cell_type": "code",
   "execution_count": 5,
   "metadata": {},
   "outputs": [
    {
     "data": {
      "text/html": [
       "<div>\n",
       "<style scoped>\n",
       "    .dataframe tbody tr th:only-of-type {\n",
       "        vertical-align: middle;\n",
       "    }\n",
       "\n",
       "    .dataframe tbody tr th {\n",
       "        vertical-align: top;\n",
       "    }\n",
       "\n",
       "    .dataframe thead th {\n",
       "        text-align: right;\n",
       "    }\n",
       "</style>\n",
       "<table border=\"1\" class=\"dataframe\">\n",
       "  <thead>\n",
       "    <tr style=\"text-align: right;\">\n",
       "      <th></th>\n",
       "      <th></th>\n",
       "      <th>Unnamed: 0</th>\n",
       "      <th>01/18</th>\n",
       "      <th>01/19</th>\n",
       "      <th>NETFLIX.COM</th>\n",
       "      <th>NETFLIX.COM.1</th>\n",
       "      <th>CA</th>\n",
       "      <th>75418230J4S063GVB</th>\n",
       "      <th>19.99</th>\n",
       "    </tr>\n",
       "  </thead>\n",
       "  <tbody>\n",
       "    <tr>\n",
       "      <th rowspan=\"3\" valign=\"top\">NaN</th>\n",
       "      <th>02/08</th>\n",
       "      <td>02/08</td>\n",
       "      <td>COMCAST</td>\n",
       "      <td>CABLE</td>\n",
       "      <td>COMM</td>\n",
       "      <td>800-COMCAST</td>\n",
       "      <td>OR</td>\n",
       "      <td>55432861736QVWT38</td>\n",
       "      <td>75.00</td>\n",
       "    </tr>\n",
       "    <tr>\n",
       "      <th>02/10</th>\n",
       "      <td>02/12</td>\n",
       "      <td>ADOBE</td>\n",
       "      <td>PHOTOGPHY</td>\n",
       "      <td>PLAN</td>\n",
       "      <td>4085366000</td>\n",
       "      <td>CA</td>\n",
       "      <td>527048719LQNXLFL8</td>\n",
       "      <td>9.99</td>\n",
       "    </tr>\n",
       "    <tr>\n",
       "      <th>02/13</th>\n",
       "      <td>02/14</td>\n",
       "      <td>PORTLAND</td>\n",
       "      <td>GENERAL</td>\n",
       "      <td>ELECT</td>\n",
       "      <td>8005428818</td>\n",
       "      <td>OR</td>\n",
       "      <td>55429501QLW152T9H</td>\n",
       "      <td>188.08</td>\n",
       "    </tr>\n",
       "  </tbody>\n",
       "</table>\n",
       "</div>"
      ],
      "text/plain": [
       "          Unnamed: 0     01/18      01/19 NETFLIX.COM NETFLIX.COM.1  CA  \\\n",
       "NaN 02/08      02/08   COMCAST      CABLE        COMM   800-COMCAST  OR   \n",
       "    02/10      02/12     ADOBE  PHOTOGPHY        PLAN    4085366000  CA   \n",
       "    02/13      02/14  PORTLAND    GENERAL       ELECT    8005428818  OR   \n",
       "\n",
       "           75418230J4S063GVB   19.99  \n",
       "NaN 02/08  55432861736QVWT38   75.00  \n",
       "    02/10  527048719LQNXLFL8    9.99  \n",
       "    02/13  55429501QLW152T9H  188.08  "
      ]
     },
     "execution_count": 5,
     "metadata": {},
     "output_type": "execute_result"
    }
   ],
   "source": [
    "import pandas as pd\n",
    "import re\n",
    "\n",
    "!pdfgrep -i -P \"adobe|netflix|portland general elect|comcast cable\" \"First Tech CC 1-18 2-18 2023.pdf\" | perl -pne 's/ +/,/g' > data.csv\n",
    "\n",
    "\n",
    "df = pd.read_csv('data.csv')\n",
    "df"
   ]
  }
 ],
 "metadata": {
  "kernelspec": {
   "display_name": "Python 3",
   "language": "python",
   "name": "python3"
  },
  "language_info": {
   "codemirror_mode": {
    "name": "ipython",
    "version": 3
   },
   "file_extension": ".py",
   "mimetype": "text/x-python",
   "name": "python",
   "nbconvert_exporter": "python",
   "pygments_lexer": "ipython3",
   "version": "3.11.2"
  },
  "orig_nbformat": 4
 },
 "nbformat": 4,
 "nbformat_minor": 2
}
