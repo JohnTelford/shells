{
 "cells": [
  {
   "cell_type": "code",
   "execution_count": 52,
   "metadata": {},
   "outputs": [
    {
     "name": "stdout",
     "output_type": "stream",
     "text": [
      "pdfgrep: Could not open pdf_file\n"
     ]
    },
    {
     "data": {
      "text/html": [
       "<div>\n",
       "<style scoped>\n",
       "    .dataframe tbody tr th:only-of-type {\n",
       "        vertical-align: middle;\n",
       "    }\n",
       "\n",
       "    .dataframe tbody tr th {\n",
       "        vertical-align: top;\n",
       "    }\n",
       "\n",
       "    .dataframe thead th {\n",
       "        text-align: right;\n",
       "    }\n",
       "</style>\n",
       "<table border=\"1\" class=\"dataframe\">\n",
       "  <thead>\n",
       "    <tr style=\"text-align: right;\">\n",
       "      <th></th>\n",
       "      <th>c3</th>\n",
       "      <th>c4</th>\n",
       "      <th>c5</th>\n",
       "      <th>c6</th>\n",
       "      <th>c8</th>\n",
       "      <th>c10</th>\n",
       "    </tr>\n",
       "  </thead>\n",
       "  <tbody>\n",
       "    <tr>\n",
       "      <th>0</th>\n",
       "      <td>01/19</td>\n",
       "      <td>NETFLIX.COM</td>\n",
       "      <td>NETFLIX.COM</td>\n",
       "      <td>CA</td>\n",
       "      <td>19.99</td>\n",
       "      <td>NaN</td>\n",
       "    </tr>\n",
       "    <tr>\n",
       "      <th>1</th>\n",
       "      <td>02/08</td>\n",
       "      <td>COMCAST</td>\n",
       "      <td>CABLE</td>\n",
       "      <td>COMM</td>\n",
       "      <td>OR</td>\n",
       "      <td>75.00</td>\n",
       "    </tr>\n",
       "    <tr>\n",
       "      <th>2</th>\n",
       "      <td>02/12</td>\n",
       "      <td>ADOBE</td>\n",
       "      <td>PHOTOGPHY</td>\n",
       "      <td>PLAN</td>\n",
       "      <td>CA</td>\n",
       "      <td>9.99</td>\n",
       "    </tr>\n",
       "    <tr>\n",
       "      <th>3</th>\n",
       "      <td>02/14</td>\n",
       "      <td>PORTLAND</td>\n",
       "      <td>GENERAL</td>\n",
       "      <td>ELECT</td>\n",
       "      <td>OR</td>\n",
       "      <td>188.08</td>\n",
       "    </tr>\n",
       "  </tbody>\n",
       "</table>\n",
       "</div>"
      ],
      "text/plain": [
       "      c3           c4           c5     c6     c8     c10\n",
       "0  01/19  NETFLIX.COM  NETFLIX.COM     CA  19.99     NaN\n",
       "1  02/08      COMCAST        CABLE   COMM     OR   75.00\n",
       "2  02/12        ADOBE    PHOTOGPHY   PLAN     CA    9.99\n",
       "3  02/14     PORTLAND      GENERAL  ELECT     OR  188.08"
      ]
     },
     "execution_count": 52,
     "metadata": {},
     "output_type": "execute_result"
    }
   ],
   "source": [
    "import pandas as pd\n",
    "import re\n",
    "\n",
    "pdf_file = \"First Tech CC 1-18 2-18 2023.pdf\" \n",
    "data = \"data.csv\"\n",
    "\n",
    "!pdfgrep -i -P \\\n",
    "\"adobe| \\\n",
    "netflix| \\\n",
    "portland general elect |\\\n",
    "comcast cable\" \\\n",
    "pdf_file| perl -pne 's/ +/,/g' > data\n",
    "\n",
    "\n",
    "df = pd.read_csv(data, names=['c1', 'c2', 'c3', 'c4','c5', 'c6','c7', 'c8','c9', 'c10'])\n",
    "df = df.drop(['c1', 'c2', 'c7', 'c9'], axis=1)\n",
    "\n",
    "# df = pd.read_csv(data)\n",
    "\n",
    "df"
   ]
  },
  {
   "cell_type": "code",
   "execution_count": null,
   "metadata": {},
   "outputs": [],
   "source": []
  }
 ],
 "metadata": {
  "kernelspec": {
   "display_name": "Python 3",
   "language": "python",
   "name": "python3"
  },
  "language_info": {
   "codemirror_mode": {
    "name": "ipython",
    "version": 3
   },
   "file_extension": ".py",
   "mimetype": "text/x-python",
   "name": "python",
   "nbconvert_exporter": "python",
   "pygments_lexer": "ipython3",
   "version": "3.11.2"
  },
  "orig_nbformat": 4
 },
 "nbformat": 4,
 "nbformat_minor": 2
}
