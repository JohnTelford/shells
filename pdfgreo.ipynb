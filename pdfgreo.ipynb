{
 "cells": [
  {
   "cell_type": "code",
   "execution_count": 8,
   "metadata": {},
   "outputs": [
    {
     "data": {
      "text/html": [
       "<div>\n",
       "<style scoped>\n",
       "    .dataframe tbody tr th:only-of-type {\n",
       "        vertical-align: middle;\n",
       "    }\n",
       "\n",
       "    .dataframe tbody tr th {\n",
       "        vertical-align: top;\n",
       "    }\n",
       "\n",
       "    .dataframe thead th {\n",
       "        text-align: right;\n",
       "    }\n",
       "</style>\n",
       "<table border=\"1\" class=\"dataframe\">\n",
       "  <thead>\n",
       "    <tr style=\"text-align: right;\">\n",
       "      <th></th>\n",
       "      <th>c3</th>\n",
       "      <th>c4</th>\n",
       "      <th>c5</th>\n",
       "      <th>c6</th>\n",
       "      <th>c8</th>\n",
       "      <th>c9</th>\n",
       "      <th>c10</th>\n",
       "    </tr>\n",
       "  </thead>\n",
       "  <tbody>\n",
       "    <tr>\n",
       "      <th>0</th>\n",
       "      <td>03/19</td>\n",
       "      <td>NW</td>\n",
       "      <td>NATURAL</td>\n",
       "      <td>8004224012</td>\n",
       "      <td>OR</td>\n",
       "      <td>55429502QLY0M5WL2</td>\n",
       "      <td>101.28</td>\n",
       "    </tr>\n",
       "    <tr>\n",
       "      <th>1</th>\n",
       "      <td>03/19</td>\n",
       "      <td>ADOBE</td>\n",
       "      <td>PRODUCTS</td>\n",
       "      <td>4085366000</td>\n",
       "      <td>52704872QLQD1Q9BW</td>\n",
       "      <td>9.99</td>\n",
       "      <td>NaN</td>\n",
       "    </tr>\n",
       "    <tr>\n",
       "      <th>2</th>\n",
       "      <td>03/19</td>\n",
       "      <td>NETFLIX.COM</td>\n",
       "      <td>NETFLIX.COM</td>\n",
       "      <td>CA</td>\n",
       "      <td>19.99</td>\n",
       "      <td>NaN</td>\n",
       "      <td>NaN</td>\n",
       "    </tr>\n",
       "    <tr>\n",
       "      <th>3</th>\n",
       "      <td>03/20</td>\n",
       "      <td>ATT*</td>\n",
       "      <td>BILL</td>\n",
       "      <td>PAYMENT</td>\n",
       "      <td>TX</td>\n",
       "      <td>55500362FPLMB51WY</td>\n",
       "      <td>137.31</td>\n",
       "    </tr>\n",
       "    <tr>\n",
       "      <th>4</th>\n",
       "      <td>03/26</td>\n",
       "      <td>GITHUB</td>\n",
       "      <td>SAN</td>\n",
       "      <td>FRANCISCO</td>\n",
       "      <td>82305092L000QTJPR</td>\n",
       "      <td>4.00</td>\n",
       "      <td>NaN</td>\n",
       "    </tr>\n",
       "    <tr>\n",
       "      <th>5</th>\n",
       "      <td>03/26</td>\n",
       "      <td>APPLE.COM/BILL</td>\n",
       "      <td>866-712-7753</td>\n",
       "      <td>CA</td>\n",
       "      <td>9.99</td>\n",
       "      <td>NaN</td>\n",
       "      <td>NaN</td>\n",
       "    </tr>\n",
       "    <tr>\n",
       "      <th>6</th>\n",
       "      <td>04/05</td>\n",
       "      <td>STATE</td>\n",
       "      <td>FARM</td>\n",
       "      <td>INSURANCE</td>\n",
       "      <td>IL</td>\n",
       "      <td>52704872YLQKZ0W4G</td>\n",
       "      <td>34.72</td>\n",
       "    </tr>\n",
       "    <tr>\n",
       "      <th>7</th>\n",
       "      <td>04/06</td>\n",
       "      <td>CLOUDFLARE</td>\n",
       "      <td>SAN</td>\n",
       "      <td>FRANCISCO</td>\n",
       "      <td>82117552Z0000D4A7</td>\n",
       "      <td>9.15</td>\n",
       "      <td>NaN</td>\n",
       "    </tr>\n",
       "    <tr>\n",
       "      <th>8</th>\n",
       "      <td>04/09</td>\n",
       "      <td>COMCAST</td>\n",
       "      <td>CABLE</td>\n",
       "      <td>COMM</td>\n",
       "      <td>OR</td>\n",
       "      <td>55432863261ASBFP1</td>\n",
       "      <td>75.00</td>\n",
       "    </tr>\n",
       "    <tr>\n",
       "      <th>9</th>\n",
       "      <td>04/11</td>\n",
       "      <td>ADOBE</td>\n",
       "      <td>PHOTOGPHY</td>\n",
       "      <td>PLAN</td>\n",
       "      <td>CA</td>\n",
       "      <td>527048734LQE8XASY</td>\n",
       "      <td>9.99</td>\n",
       "    </tr>\n",
       "    <tr>\n",
       "      <th>10</th>\n",
       "      <td>04/13</td>\n",
       "      <td>PORTLAND</td>\n",
       "      <td>GENERAL</td>\n",
       "      <td>ELECT</td>\n",
       "      <td>OR</td>\n",
       "      <td>554295036LY3RJ03H</td>\n",
       "      <td>173.26</td>\n",
       "    </tr>\n",
       "    <tr>\n",
       "      <th>11</th>\n",
       "      <td>04/14</td>\n",
       "      <td>CLOUDFLARE</td>\n",
       "      <td>SAN</td>\n",
       "      <td>FRANCISCO</td>\n",
       "      <td>82117553800002EVQ</td>\n",
       "      <td>9.15</td>\n",
       "      <td>NaN</td>\n",
       "    </tr>\n",
       "    <tr>\n",
       "      <th>12</th>\n",
       "      <td>04/17</td>\n",
       "      <td>APPLE.COM/BILL</td>\n",
       "      <td>866-712-7753</td>\n",
       "      <td>CA</td>\n",
       "      <td>16.99</td>\n",
       "      <td>NaN</td>\n",
       "      <td>NaN</td>\n",
       "    </tr>\n",
       "    <tr>\n",
       "      <th>13</th>\n",
       "      <td>04/17</td>\n",
       "      <td>APPLE.COM/BILL</td>\n",
       "      <td>866-712-7753</td>\n",
       "      <td>CA</td>\n",
       "      <td>7.99</td>\n",
       "      <td>NaN</td>\n",
       "      <td>NaN</td>\n",
       "    </tr>\n",
       "    <tr>\n",
       "      <th>14</th>\n",
       "      <td>04/10</td>\n",
       "      <td>APPLE.COM/BILL</td>\n",
       "      <td>866-712-7753</td>\n",
       "      <td>CA</td>\n",
       "      <td>3.99</td>\n",
       "      <td>NaN</td>\n",
       "      <td>NaN</td>\n",
       "    </tr>\n",
       "  </tbody>\n",
       "</table>\n",
       "</div>"
      ],
      "text/plain": [
       "       c3              c4            c5          c6                 c8  \\\n",
       "0   03/19              NW       NATURAL  8004224012                 OR   \n",
       "1   03/19           ADOBE      PRODUCTS  4085366000  52704872QLQD1Q9BW   \n",
       "2   03/19     NETFLIX.COM   NETFLIX.COM          CA              19.99   \n",
       "3   03/20            ATT*          BILL     PAYMENT                 TX   \n",
       "4   03/26          GITHUB           SAN   FRANCISCO  82305092L000QTJPR   \n",
       "5   03/26  APPLE.COM/BILL  866-712-7753          CA               9.99   \n",
       "6   04/05           STATE          FARM   INSURANCE                 IL   \n",
       "7   04/06      CLOUDFLARE           SAN   FRANCISCO  82117552Z0000D4A7   \n",
       "8   04/09         COMCAST         CABLE        COMM                 OR   \n",
       "9   04/11           ADOBE     PHOTOGPHY        PLAN                 CA   \n",
       "10  04/13        PORTLAND       GENERAL       ELECT                 OR   \n",
       "11  04/14      CLOUDFLARE           SAN   FRANCISCO  82117553800002EVQ   \n",
       "12  04/17  APPLE.COM/BILL  866-712-7753          CA              16.99   \n",
       "13  04/17  APPLE.COM/BILL  866-712-7753          CA               7.99   \n",
       "14  04/10  APPLE.COM/BILL  866-712-7753          CA               3.99   \n",
       "\n",
       "                   c9     c10  \n",
       "0   55429502QLY0M5WL2  101.28  \n",
       "1                9.99     NaN  \n",
       "2                 NaN     NaN  \n",
       "3   55500362FPLMB51WY  137.31  \n",
       "4                4.00     NaN  \n",
       "5                 NaN     NaN  \n",
       "6   52704872YLQKZ0W4G   34.72  \n",
       "7                9.15     NaN  \n",
       "8   55432863261ASBFP1   75.00  \n",
       "9   527048734LQE8XASY    9.99  \n",
       "10  554295036LY3RJ03H  173.26  \n",
       "11               9.15     NaN  \n",
       "12                NaN     NaN  \n",
       "13                NaN     NaN  \n",
       "14                NaN     NaN  "
      ]
     },
     "execution_count": 8,
     "metadata": {},
     "output_type": "execute_result"
    }
   ],
   "source": [
    "import pandas as pd\n",
    "import re\n",
    "\n",
    "pdf_file = \"First Tech CC 3-18 4-18 2023.pdf\" \n",
    "data = \"data.csv\"\n",
    "\n",
    "!pdfgrep -i -P \\\n",
    "\"adobe products| \\\n",
    "apple| \\\n",
    "ADOBE PHOTOGPHY PLAN| \\\n",
    "netflix| \\\n",
    "portland general elect| \\\n",
    "state farm| \\\n",
    "NW NATURAL| \\\n",
    "GITHUB| \\\n",
    "att\\*| \\\n",
    "CLOUDFLARE| \\\n",
    "comcast cable\" \\\n",
    "\"First Tech CC 3-18 4-18 2023.pdf\" | perl -pne 's/ +/,/g' > data\n",
    "\n",
    "\n",
    "df = pd.read_csv(data, names=['c1', 'c2', 'c3', 'c4','c5', 'c6','c7', 'c8','c9', 'c10'])\n",
    "df = df.drop(['c1', 'c2', 'c7' ], axis=1)\n",
    "\n",
    "#netflix = df.groupby([\"c4\", \"c5\", \"c10\"])\n",
    "# grouped.get_group(\"netflix\")\n",
    "df"
   ]
  },
  {
   "cell_type": "code",
   "execution_count": 50,
   "metadata": {},
   "outputs": [
    {
     "data": {
      "text/plain": [
       "['03/19', 'NW', 'NATURAL', '8004224012', 'OR', '55429502QLY0M5WL2', 101.28]"
      ]
     },
     "execution_count": 50,
     "metadata": {},
     "output_type": "execute_result"
    }
   ],
   "source": [
    "nw_natural = df.loc[0, :].values.flatten().tolist()\n",
    "nw_natural\n",
    " "
   ]
  },
  {
   "cell_type": "code",
   "execution_count": 42,
   "metadata": {},
   "outputs": [
    {
     "data": {
      "text/plain": [
       "['03/19', 'ADOBE', 'PRODUCTS', '4085366000', '52704872QLQD1Q9BW', '9.99', nan]"
      ]
     },
     "execution_count": 42,
     "metadata": {},
     "output_type": "execute_result"
    }
   ],
   "source": [
    "adobe = df.loc[1, :].values.flatten().tolist()\n",
    "adobe\n"
   ]
  },
  {
   "cell_type": "code",
   "execution_count": 99,
   "metadata": {},
   "outputs": [
    {
     "name": "stdout",
     "output_type": "stream",
     "text": [
      "NETFLIX.COM 19.99\n"
     ]
    }
   ],
   "source": [
    "print(df['c4'].loc[df.index[2]] , df['c8'].loc[df.index[2]])\n",
    "# print(df['c8'].loc[df.index[2]])\n"
   ]
  },
  {
   "cell_type": "markdown",
   "metadata": {},
   "source": []
  },
  {
   "cell_type": "code",
   "execution_count": 63,
   "metadata": {},
   "outputs": [
    {
     "ename": "AttributeError",
     "evalue": "'DataFrame' object has no attribute 'iata'",
     "output_type": "error",
     "traceback": [
      "\u001b[0;31m---------------------------------------------------------------------------\u001b[0m",
      "\u001b[0;31mAttributeError\u001b[0m                            Traceback (most recent call last)",
      "Cell \u001b[0;32mIn[63], line 1\u001b[0m\n\u001b[0;32m----> 1\u001b[0m df\u001b[39m.\u001b[39mloc[df\u001b[39m.\u001b[39;49miata \u001b[39m==\u001b[39m \u001b[39m'\u001b[39m\u001b[39mc3\u001b[39m\u001b[39m'\u001b[39m,\u001b[39m'\u001b[39m\u001b[39mc10\u001b[39m\u001b[39m'\u001b[39m]\u001b[39m.\u001b[39mtolist()[\u001b[39m0\u001b[39m]\n",
      "File \u001b[0;32m/Library/Frameworks/Python.framework/Versions/3.11/lib/python3.11/site-packages/pandas/core/generic.py:5902\u001b[0m, in \u001b[0;36mNDFrame.__getattr__\u001b[0;34m(self, name)\u001b[0m\n\u001b[1;32m   5895\u001b[0m \u001b[39mif\u001b[39;00m (\n\u001b[1;32m   5896\u001b[0m     name \u001b[39mnot\u001b[39;00m \u001b[39min\u001b[39;00m \u001b[39mself\u001b[39m\u001b[39m.\u001b[39m_internal_names_set\n\u001b[1;32m   5897\u001b[0m     \u001b[39mand\u001b[39;00m name \u001b[39mnot\u001b[39;00m \u001b[39min\u001b[39;00m \u001b[39mself\u001b[39m\u001b[39m.\u001b[39m_metadata\n\u001b[1;32m   5898\u001b[0m     \u001b[39mand\u001b[39;00m name \u001b[39mnot\u001b[39;00m \u001b[39min\u001b[39;00m \u001b[39mself\u001b[39m\u001b[39m.\u001b[39m_accessors\n\u001b[1;32m   5899\u001b[0m     \u001b[39mand\u001b[39;00m \u001b[39mself\u001b[39m\u001b[39m.\u001b[39m_info_axis\u001b[39m.\u001b[39m_can_hold_identifiers_and_holds_name(name)\n\u001b[1;32m   5900\u001b[0m ):\n\u001b[1;32m   5901\u001b[0m     \u001b[39mreturn\u001b[39;00m \u001b[39mself\u001b[39m[name]\n\u001b[0;32m-> 5902\u001b[0m \u001b[39mreturn\u001b[39;00m \u001b[39mobject\u001b[39;49m\u001b[39m.\u001b[39;49m\u001b[39m__getattribute__\u001b[39;49m(\u001b[39mself\u001b[39;49m, name)\n",
      "\u001b[0;31mAttributeError\u001b[0m: 'DataFrame' object has no attribute 'iata'"
     ]
    }
   ],
   "source": [
    "df.loc[df.iata == 'c3','c10'].tolist()[0]"
   ]
  },
  {
   "cell_type": "code",
   "execution_count": null,
   "metadata": {},
   "outputs": [],
   "source": []
  },
  {
   "cell_type": "markdown",
   "metadata": {},
   "source": []
  }
 ],
 "metadata": {
  "kernelspec": {
   "display_name": "Python 3",
   "language": "python",
   "name": "python3"
  },
  "language_info": {
   "codemirror_mode": {
    "name": "ipython",
    "version": 3
   },
   "file_extension": ".py",
   "mimetype": "text/x-python",
   "name": "python",
   "nbconvert_exporter": "python",
   "pygments_lexer": "ipython3",
   "version": "3.11.2"
  },
  "orig_nbformat": 4
 },
 "nbformat": 4,
 "nbformat_minor": 2
}
